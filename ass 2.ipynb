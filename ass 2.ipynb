{
 "cells": [
  {
   "cell_type": "code",
   "execution_count": 2,
   "id": "50aa96b1",
   "metadata": {},
   "outputs": [
    {
     "name": "stdout",
     "output_type": "stream",
     "text": [
      "Object name:phone\n",
      "Brand:apple\n"
     ]
    }
   ],
   "source": [
    "# Python program\n",
    "\n",
    "# Base class\n",
    "class Object:\n",
    "    def func1(self):\n",
    "        print(\"Object name:phone\")\n",
    "        \n",
    "# Derived class\n",
    "\n",
    "class Brand(Object):\n",
    "    def func2(self):\n",
    "        print(\"Brand:apple\")\n",
    "        \n",
    "# Driver's code\n",
    "object = Brand()\n",
    "object.func1()\n",
    "object.func2()"
   ]
  },
  {
   "cell_type": "code",
   "execution_count": null,
   "id": "c5207afa",
   "metadata": {},
   "outputs": [],
   "source": [
    "# MULTIPLE INHERITANCE"
   ]
  },
  {
   "cell_type": "code",
   "execution_count": 3,
   "id": "bcb2d681",
   "metadata": {},
   "outputs": [
    {
     "name": "stdout",
     "output_type": "stream",
     "text": [
      "Father : mohan\n",
      "Mother : kumari\n"
     ]
    }
   ],
   "source": [
    "class Mother:\n",
    "    mothername = \"\"\n",
    "    \n",
    "    def mother(self):\n",
    "        print(self.mothername)\n",
    "        \n",
    "# Base class2\n",
    "\n",
    "class Father:\n",
    "    fathername = \"\"\n",
    "    \n",
    "    def father(self):\n",
    "        print(self.fathername)\n",
    "        \n",
    "# Derived class\n",
    "\n",
    "class Daughter(Mother, Father):\n",
    "    def parents(self):\n",
    "        print(\"Father :\", self.fathername)\n",
    "        print(\"Mother :\", self.mothername) \n",
    "        \n",
    "# Driver's code\n",
    "s1 = Daughter()\n",
    "s1.fathername = \"mohan\"\n",
    "s1.mothername = \"kumari\"\n",
    "s1.parents()\n"
   ]
  },
  {
   "cell_type": "code",
   "execution_count": null,
   "id": "3098ab80",
   "metadata": {},
   "outputs": [],
   "source": [
    "# HIERARCHIAL INHERITANCE"
   ]
  },
  {
   "cell_type": "code",
   "execution_count": 4,
   "id": "8d9dbc10",
   "metadata": {},
   "outputs": [
    {
     "name": "stdout",
     "output_type": "stream",
     "text": [
      "marks 80.4\n",
      "A Grade\n"
     ]
    }
   ],
   "source": [
    "class student:\n",
    "    def func1(self):\n",
    "        marks=(98+78+86+56+84)/5\n",
    "        print('marks',marks)\n",
    "        \n",
    "#Derived Class\n",
    "\n",
    "class grade(student):\n",
    "    def func2(self):\n",
    "        print('A Grade')\n",
    "        \n",
    "object1=grade()\n",
    "object1.func1()\n",
    "object1.func2()"
   ]
  },
  {
   "cell_type": "code",
   "execution_count": null,
   "id": "8d59deeb",
   "metadata": {},
   "outputs": [],
   "source": [
    "#Hybrid Inheritance"
   ]
  },
  {
   "cell_type": "code",
   "execution_count": 6,
   "id": "6e23db66",
   "metadata": {},
   "outputs": [
    {
     "name": "stdout",
     "output_type": "stream",
     "text": [
      "DISPLAY phone Brands!!\n",
      "1.vivo\n",
      "2.oppo\n",
      "3.apple\n",
      "\n",
      "Expensive: apple\n"
     ]
    }
   ],
   "source": [
    "class Car:\n",
    "    def func1(self):\n",
    "        print(\"DISPLAY phone Brands!!\")\n",
    "        \n",
    "class c1(Car):\n",
    "    def func2(self):\n",
    "        print(\"1.vivo\\n2.oppo\\n3.apple\\n\")\n",
    "        \n",
    "class c2(Car):\n",
    "    def func3(self):\n",
    "        print(\"Expensive: apple\")\n",
    "        \n",
    "class c3(c1,c2):\n",
    "    def func4(self):\n",
    "        print('phone')\n",
    "        \n",
    "# Driver's code\n",
    "object = c3()\n",
    "object.func1()\n",
    "object.func2()\n",
    "object.func3()"
   ]
  },
  {
   "cell_type": "code",
   "execution_count": null,
   "id": "95994f1b",
   "metadata": {},
   "outputs": [],
   "source": [
    "#Multilevel Inheritance"
   ]
  },
  {
   "cell_type": "code",
   "execution_count": 12,
   "id": "6645d97d",
   "metadata": {},
   "outputs": [
    {
     "name": "stdout",
     "output_type": "stream",
     "text": [
      "Grandfather name : rajeev\n",
      "Father name : manoharan\n",
      "Son name : gopal\n"
     ]
    }
   ],
   "source": [
    "class Grandfather:\n",
    "    \n",
    "    def __init__(self, grandfathername):\n",
    "        self.grandfathername = grandfathername\n",
    "        \n",
    "# Intermediate class\n",
    "\n",
    "class Father(Grandfather):\n",
    "    def __init__(self, fathername, grandfathername):\n",
    "        self.fathername = fathername\n",
    "        \n",
    "        # invoking constructor of Grandfather class\n",
    "        Grandfather.__init__(self, grandfathername)\n",
    "    \n",
    "# Derived class\n",
    "\n",
    "class Son(Father):\n",
    "    def __init__(self, sonname, fathername, grandfathername):\n",
    "        self.sonname = sonname\n",
    "        \n",
    "        # invoking constructor of Father class\n",
    "        Father.__init__(self, fathername, grandfathername)\n",
    "        \n",
    "    def print_name(self):\n",
    "        print('Grandfather name :', self.grandfathername)\n",
    "        print(\"Father name :\", self.fathername)\n",
    "        print(\"Son name :\", self.sonname)\n",
    "    \n",
    "# Driver code\n",
    "s1 = Son('gopal', 'manoharan', 'rajeev')\n",
    "s1.print_name()\n"
   ]
  },
  {
   "cell_type": "code",
   "execution_count": 14,
   "id": "be17ade8",
   "metadata": {},
   "outputs": [
    {
     "name": "stdout",
     "output_type": "stream",
     "text": [
      "Enter the item: bottle\n",
      "The rate of bottle is 5\n"
     ]
    }
   ],
   "source": [
    "Rate = { 'bottle' : 5, 'chair' : 1200, 'pen' : 50}\n",
    "item = input('Enter the item: ')\n",
    "try:\n",
    "    print(f'The rate of {item} is {Rate[item]}')\n",
    "except KeyError:\n",
    "    print(f'The price of {item} is not found')"
   ]
  },
  {
   "cell_type": "code",
   "execution_count": 15,
   "id": "8c59f2c6",
   "metadata": {},
   "outputs": [
    {
     "name": "stdout",
     "output_type": "stream",
     "text": [
      "TRUE\n",
      "Success, no error!\n"
     ]
    }
   ],
   "source": [
    "try: \n",
    "    a = 5\n",
    "    b = 5\n",
    "    assert a != b\n",
    "except AssertionError: \n",
    "       if a==b:\n",
    "            print(\"TRUE\")\n",
    "print (\"Success, no error!\")\n"
   ]
  },
  {
   "cell_type": "code",
   "execution_count": 1,
   "id": "e390aeb8",
   "metadata": {},
   "outputs": [
    {
     "name": "stdout",
     "output_type": "stream",
     "text": [
      "5\n",
      "Attribute Exception\n"
     ]
    }
   ],
   "source": [
    "class Attributes(object):\n",
    "    num = 5\n",
    "    print(num)\n",
    "try:\n",
    "    object = Attributes()\n",
    "    print (object.attribute)\n",
    "except AttributeError:\n",
    "    print (\"Attribute Exception\")"
   ]
  },
  {
   "cell_type": "code",
   "execution_count": 3,
   "id": "2ec0e350",
   "metadata": {},
   "outputs": [
    {
     "name": "stdout",
     "output_type": "stream",
     "text": [
      "enter:1,8\n",
      "Error Handled!\n"
     ]
    }
   ],
   "source": [
    "try:\n",
    "    \n",
    "    a=int(input(\"enter:\"))\n",
    "    Type=a[1]\n",
    "except ValueError: #Two or more int elements given as inputs\n",
    "    print(\"Error Handled!\")"
   ]
  },
  {
   "cell_type": "code",
   "execution_count": 4,
   "id": "23040e84",
   "metadata": {},
   "outputs": [
    {
     "name": "stdout",
     "output_type": "stream",
     "text": [
      "98\n"
     ]
    }
   ],
   "source": [
    "import numpy as np\n",
    "try:\n",
    "    a=[12,34,56,78,98]\n",
    "    print(np.max(a))\n",
    "except IndentationError:\n",
    "    print(np.max(a))"
   ]
  },
  {
   "cell_type": "code",
   "execution_count": 5,
   "id": "c366a75f",
   "metadata": {},
   "outputs": [
    {
     "name": "stdout",
     "output_type": "stream",
     "text": [
      "Value of b =  -2.0\n",
      "NameError Occurred and Handled\n"
     ]
    }
   ],
   "source": [
    "def fun(a):\n",
    "    if a < 4:\n",
    " \n",
    "        # throws ZeroDivisionError for a = 3\n",
    "        b = a/(a-3)\n",
    " \n",
    "    # throws NameError if a >= 4\n",
    "    print(\"Value of b = \", b)\n",
    " \n",
    "try:\n",
    "    fun(2)\n",
    "    fun(5)\n",
    " \n",
    "# note that braces () are necessary here for \n",
    "# multiple exceptions\n",
    "except ZeroDivisionError:\n",
    "    print(\"ZeroDivisionError Occurred and Handled\")\n",
    "except NameError:\n",
    "    print(\"NameError Occurred and Handled\")\n"
   ]
  },
  {
   "cell_type": "code",
   "execution_count": 6,
   "id": "73d64262",
   "metadata": {},
   "outputs": [
    {
     "name": "stdout",
     "output_type": "stream",
     "text": [
      "['12', '78', '23']\n"
     ]
    }
   ],
   "source": [
    "# re.findall()\n",
    "import pandas as pd\n",
    "import numpy as np\n",
    "import re\n",
    "str1='Hello 12 rt 78. Cowboy 23'\n",
    "pattern = '\\d+'\n",
    "\n",
    "result = re.findall(pattern,str1)\n",
    "print(result)"
   ]
  },
  {
   "cell_type": "code",
   "execution_count": 7,
   "id": "6545edfb",
   "metadata": {},
   "outputs": [
    {
     "name": "stdout",
     "output_type": "stream",
     "text": [
      "['twelve:12', 'Eighty nine:89 fourty:40']\n"
     ]
    }
   ],
   "source": [
    "#re.split()\n",
    "string='twelve:12 Eighty nine:89 fourty:40'\n",
    "pattern='\\s+'\n",
    "\n",
    "#maxsplit = 1\n",
    "#split only at the first occurence\n",
    "\n",
    "result = re.split(pattern,string,1)\n",
    "print(result)\n"
   ]
  },
  {
   "cell_type": "code",
   "execution_count": 8,
   "id": "5be08cea",
   "metadata": {},
   "outputs": [
    {
     "name": "stdout",
     "output_type": "stream",
     "text": [
      "abc\t&&\t12\\\t&&\tde\t&&\t23\t&&\tf45\t&&\t6\n"
     ]
    }
   ],
   "source": [
    "#re.sub()\n",
    "s1='abc 12\\ de 23 \\n f45 6'\n",
    "\n",
    " # matches all whitespace characters\n",
    "pattern='\\s+'\n",
    "\n",
    "#empty string\n",
    "replace = '\\t&&\\t' # && denotes white spaces\n",
    "\n",
    "new = re.sub(pattern,replace,s1)\n",
    "print(new)"
   ]
  },
  {
   "cell_type": "code",
   "execution_count": 9,
   "id": "3ebeb9e7",
   "metadata": {},
   "outputs": [
    {
     "name": "stdout",
     "output_type": "stream",
     "text": [
      "Pattern found inside the string\n",
      "Index: Python\n"
     ]
    }
   ],
   "source": [
    "#re.search()\n",
    "s2='Python is Craze'\n",
    "#check if python is beginning\n",
    "match = re.search('\\APython',s2)\n",
    "m1=s2[0:6]\n",
    "\n",
    "if match:\n",
    "    print('Pattern found inside the string')\n",
    "    print('Index:',m1)\n",
    "else:\n",
    "    print('Pattern not found!!')\n",
    "   "
   ]
  },
  {
   "cell_type": "code",
   "execution_count": 13,
   "id": "0dde57ad",
   "metadata": {},
   "outputs": [
    {
     "data": {
      "text/plain": [
       "array([56, 74, 32, 33, 48, 55, 33, 64, 78, 68, 73, 27, 51, 38, 43, 48, 60,\n",
       "       51, 86, 48, 39, 84, 68, 83, 47, 33, 32, 52, 72, 59, 23, 93, 51, 43,\n",
       "       55, 43, 62, 44, 67, 72, 52, 31, 76, 31, 86, 54, 30, 83, 47, 41, 52,\n",
       "       51, 77, 79, 26, 25, 68, 31, 56, 67, 85, 91, 23, 71, 83, 86])"
      ]
     },
     "execution_count": 13,
     "metadata": {},
     "output_type": "execute_result"
    }
   ],
   "source": [
    "import numpy as np\n",
    "#one-dim\n",
    "l=np.random.randint(23,98,66)\n",
    "l\n"
   ]
  },
  {
   "cell_type": "code",
   "execution_count": 14,
   "id": "ced0aa6a",
   "metadata": {},
   "outputs": [
    {
     "data": {
      "text/plain": [
       "3690"
      ]
     },
     "execution_count": 14,
     "metadata": {},
     "output_type": "execute_result"
    }
   ],
   "source": [
    "#Sum\n",
    "np.sum(l)"
   ]
  },
  {
   "cell_type": "code",
   "execution_count": 15,
   "id": "f64c7840",
   "metadata": {},
   "outputs": [
    {
     "data": {
      "text/plain": [
       "93"
      ]
     },
     "execution_count": 15,
     "metadata": {},
     "output_type": "execute_result"
    }
   ],
   "source": [
    " #max\n",
    "np.max(l)"
   ]
  },
  {
   "cell_type": "code",
   "execution_count": 16,
   "id": "dbffccb3",
   "metadata": {},
   "outputs": [
    {
     "data": {
      "text/plain": [
       "array([[10, 34, 29, 16],\n",
       "       [33, 35, 24, 31],\n",
       "       [36, 28, 11, 27]])"
      ]
     },
     "execution_count": 16,
     "metadata": {},
     "output_type": "execute_result"
    }
   ],
   "source": [
    "#multi-Dim\n",
    "M=np.random.randint(10,40,(3,4))\n",
    "M"
   ]
  },
  {
   "cell_type": "code",
   "execution_count": 17,
   "id": "ff6f3bbc",
   "metadata": {},
   "outputs": [
    {
     "name": "stdout",
     "output_type": "stream",
     "text": [
      "[ 89 123 102]\n",
      "[79 97 64 74]\n"
     ]
    }
   ],
   "source": [
    "#sum\n",
    "print(np.sum(M,axis=1))\n",
    "print(np.sum(M,axis=0))"
   ]
  },
  {
   "cell_type": "code",
   "execution_count": 18,
   "id": "b4732682",
   "metadata": {},
   "outputs": [
    {
     "name": "stdout",
     "output_type": "stream",
     "text": [
      "Max [34 35 36]\n",
      "Min [10 28 11 16]\n"
     ]
    }
   ],
   "source": [
    "#max\n",
    "print('Max',np.max(M,axis=1))\n",
    "print('Min',np.min(M,axis=0))\n"
   ]
  },
  {
   "cell_type": "code",
   "execution_count": 19,
   "id": "8c5db334",
   "metadata": {},
   "outputs": [
    {
     "name": "stdout",
     "output_type": "stream",
     "text": [
      "[17 13 12]\n"
     ]
    },
    {
     "data": {
      "text/plain": [
       "2652"
      ]
     },
     "execution_count": 19,
     "metadata": {},
     "output_type": "execute_result"
    }
   ],
   "source": [
    "#Prod\n",
    "l1=np.random.randint(10,20,3)\n",
    "print(l1)\n",
    "prod=np.prod(l1)\n",
    "prod\n"
   ]
  },
  {
   "cell_type": "code",
   "execution_count": 20,
   "id": "1600abd4",
   "metadata": {},
   "outputs": [
    {
     "name": "stdout",
     "output_type": "stream",
     "text": [
      "[17 13 12]\n",
      "14.0\n"
     ]
    }
   ],
   "source": [
    "#Mean\n",
    "mean=np.mean(l1)\n",
    "print(l1)\n",
    "print(mean)"
   ]
  },
  {
   "cell_type": "code",
   "execution_count": 21,
   "id": "3ae9fbe4",
   "metadata": {},
   "outputs": [
    {
     "name": "stdout",
     "output_type": "stream",
     "text": [
      "[15 16 18]\n",
      "1.247219128924647\n"
     ]
    }
   ],
   "source": [
    "#std\n",
    "l2=np.random.randint(10,20,3)\n",
    "print(l2)\n",
    "std=np.std(l2)\n",
    "print(std)"
   ]
  },
  {
   "cell_type": "code",
   "execution_count": 22,
   "id": "188355e4",
   "metadata": {},
   "outputs": [
    {
     "data": {
      "text/plain": [
       "True"
      ]
     },
     "execution_count": 22,
     "metadata": {},
     "output_type": "execute_result"
    }
   ],
   "source": [
    " #any\n",
    "a=[0,8,0]\n",
    "np.any(a) "
   ]
  },
  {
   "cell_type": "code",
   "execution_count": 23,
   "id": "44110faf",
   "metadata": {},
   "outputs": [
    {
     "data": {
      "text/plain": [
       "False"
      ]
     },
     "execution_count": 23,
     "metadata": {},
     "output_type": "execute_result"
    }
   ],
   "source": [
    "#all\n",
    "x=[2,4,6,0,8]\n",
    "np.all(x)"
   ]
  },
  {
   "cell_type": "code",
   "execution_count": 24,
   "id": "d54201e0",
   "metadata": {},
   "outputs": [
    {
     "name": "stdout",
     "output_type": "stream",
     "text": [
      "[12, 45, 67, 89, 90]\n",
      "67.0\n"
     ]
    }
   ],
   "source": [
    "#Median\n",
    "x=list((12,45,67,89,90))\n",
    "print(x)\n",
    "med=np.median(x)\n",
    "print(med)"
   ]
  },
  {
   "cell_type": "code",
   "execution_count": 25,
   "id": "d06b797f",
   "metadata": {},
   "outputs": [
    {
     "data": {
      "text/plain": [
       "array([False, False, False, False])"
      ]
     },
     "execution_count": 25,
     "metadata": {},
     "output_type": "execute_result"
    }
   ],
   "source": [
    "#Masking\n",
    "import numpy.ma as ma\n",
    "m = np.zeros(4)\n",
    "m\n",
    "x=np.array([0., 0., 0., 0.])\n",
    "ma.make_mask(m)\n",
    "False\n",
    "ma.make_mask(m, shrink=False)\n",
    "np.array([False, False, False, False])"
   ]
  },
  {
   "cell_type": "code",
   "execution_count": 26,
   "id": "bb23d84c",
   "metadata": {},
   "outputs": [
    {
     "name": "stdout",
     "output_type": "stream",
     "text": [
      "[12 45 67 34 90 34]\n",
      "1. [ True False False  True False  True]\n",
      "\n",
      "2. [False  True  True False  True False]\n",
      "\n",
      "3. [False  True False False False False]\n",
      "\n",
      "4. [ True False False  True False  True]\n",
      "\n",
      "5. [False  True  True False  True False]\n",
      "\n",
      "6. [ True  True False  True  True  True]\n"
     ]
    }
   ],
   "source": [
    "#Comparisons\n",
    "# <\n",
    "a=np.array([12,45,67,34,90,34])\n",
    "print(a)\n",
    "x=a<40\n",
    "print('1.',x)\n",
    "# >\n",
    "print('\\n2.',a>40)\n",
    "# ==\n",
    "print('\\n3.',a==45)\n",
    "# <=\n",
    "print('\\n4.',a<=40)\n",
    "# >=\n",
    "print('\\n5.',a>=40)\n",
    "# !=\n",
    "print('\\n6.',a!=67)\n"
   ]
  },
  {
   "cell_type": "code",
   "execution_count": 27,
   "id": "b13064f2",
   "metadata": {},
   "outputs": [
    {
     "data": {
      "text/plain": [
       "(True, False)"
      ]
     },
     "execution_count": 27,
     "metadata": {},
     "output_type": "execute_result"
    }
   ],
   "source": [
    " bool(42),bool(0)"
   ]
  },
  {
   "cell_type": "code",
   "execution_count": 28,
   "id": "881004ce",
   "metadata": {},
   "outputs": [
    {
     "data": {
      "text/plain": [
       "False"
      ]
     },
     "execution_count": 28,
     "metadata": {},
     "output_type": "execute_result"
    }
   ],
   "source": [
    "bool(42 and 0)"
   ]
  },
  {
   "cell_type": "code",
   "execution_count": 29,
   "id": "127fbce2",
   "metadata": {},
   "outputs": [
    {
     "data": {
      "text/plain": [
       "True"
      ]
     },
     "execution_count": 29,
     "metadata": {},
     "output_type": "execute_result"
    }
   ],
   "source": [
    "bool(42 or 0)"
   ]
  },
  {
   "cell_type": "code",
   "execution_count": 30,
   "id": "bc73200d",
   "metadata": {},
   "outputs": [
    {
     "data": {
      "text/plain": [
       "'0b110111'"
      ]
     },
     "execution_count": 30,
     "metadata": {},
     "output_type": "execute_result"
    }
   ],
   "source": [
    "bin(55)\n"
   ]
  },
  {
   "cell_type": "code",
   "execution_count": 31,
   "id": "0a786040",
   "metadata": {},
   "outputs": [
    {
     "data": {
      "text/plain": [
       "'0b0'"
      ]
     },
     "execution_count": 31,
     "metadata": {},
     "output_type": "execute_result"
    }
   ],
   "source": [
    "bin(0)\n"
   ]
  },
  {
   "cell_type": "code",
   "execution_count": 32,
   "id": "3ce34124",
   "metadata": {},
   "outputs": [
    {
     "data": {
      "text/plain": [
       "'0b0'"
      ]
     },
     "execution_count": 32,
     "metadata": {},
     "output_type": "execute_result"
    }
   ],
   "source": [
    "bin(55 & 0)"
   ]
  },
  {
   "cell_type": "code",
   "execution_count": 33,
   "id": "ddb60cbb",
   "metadata": {},
   "outputs": [
    {
     "data": {
      "text/plain": [
       "'0b110111'"
      ]
     },
     "execution_count": 33,
     "metadata": {},
     "output_type": "execute_result"
    }
   ],
   "source": [
    "bin(55 | 0)"
   ]
  },
  {
   "cell_type": "code",
   "execution_count": 34,
   "id": "6de702f5",
   "metadata": {},
   "outputs": [
    {
     "data": {
      "text/plain": [
       "'0b110111'"
      ]
     },
     "execution_count": 34,
     "metadata": {},
     "output_type": "execute_result"
    }
   ],
   "source": [
    "bin(55|2)"
   ]
  },
  {
   "cell_type": "code",
   "execution_count": null,
   "id": "0d10a47e",
   "metadata": {},
   "outputs": [],
   "source": []
  }
 ],
 "metadata": {
  "kernelspec": {
   "display_name": "Python 3 (ipykernel)",
   "language": "python",
   "name": "python3"
  },
  "language_info": {
   "codemirror_mode": {
    "name": "ipython",
    "version": 3
   },
   "file_extension": ".py",
   "mimetype": "text/x-python",
   "name": "python",
   "nbconvert_exporter": "python",
   "pygments_lexer": "ipython3",
   "version": "3.9.12"
  }
 },
 "nbformat": 4,
 "nbformat_minor": 5
}
