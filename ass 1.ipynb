{
 "cells": [
  {
   "cell_type": "code",
   "execution_count": 1,
   "id": "090e1c29",
   "metadata": {},
   "outputs": [
    {
     "name": "stdout",
     "output_type": "stream",
     "text": [
      "*\r\n",
      "**\r\n",
      "***\r\n",
      "****\r\n",
      "*****\r\n"
     ]
    }
   ],
   "source": [
    "def show_stars(n):\n",
    "    for i in range(0,n):\n",
    "        for j in range(0,i+1):\n",
    "            print(\"*\",end=\"\")\n",
    "        print(\"\\r\")\n",
    "n=5\n",
    "show_stars(n)"
   ]
  },
  {
   "cell_type": "code",
   "execution_count": 10,
   "id": "1c9bb403",
   "metadata": {},
   "outputs": [
    {
     "name": "stdout",
     "output_type": "stream",
     "text": [
      "Removing Chars From String\n",
      "Real String: Quantitative\n",
      "itative\n",
      "Real String: Hurry\n",
      "rry\n"
     ]
    }
   ],
   "source": [
    "def belong(word,n):\n",
    " print(\"Real String:\", word)\n",
    " x=word[n:]\n",
    " return x\n",
    "print(\"Removing Chars From String\")\n",
    "print(belong(\"Quantitative\",5))\n",
    "print(belong(\"Hurry\",2))\n"
   ]
  },
  {
   "cell_type": "code",
   "execution_count": 13,
   "id": "14989a95",
   "metadata": {},
   "outputs": [
    {
     "name": "stdout",
     "output_type": "stream",
     "text": [
      "Given Numbers is: [10, 2, 25, 67, 92, 100]\n",
      "Divisible of 5 in numbers\n",
      "10\n",
      "25\n",
      "100\n"
     ]
    }
   ],
   "source": [
    "def division(numbers):\n",
    "    print(\"Given Numbers is:\",numbers)\n",
    "    print(\"Divisible of 5 in numbers\")\n",
    "    for num in numbers:\n",
    "        if(num%5==0):\n",
    "            print(num)\n",
    "\n",
    "numbers=[10,2,25,67,92,100]\n",
    "division(numbers)"
   ]
  },
  {
   "cell_type": "code",
   "execution_count": 14,
   "id": "26758466",
   "metadata": {},
   "outputs": [
    {
     "name": "stdout",
     "output_type": "stream",
     "text": [
      "4\n"
     ]
    }
   ],
   "source": [
    "def solve(s,t):\n",
    "    cout = 0\n",
    "    for i in range(0,len(s)-len(t)+1):\n",
    "        if s[i:i + len(t)] == t:\n",
    "            cout = cout + 1\n",
    "    return cout\n",
    "s = 'sdbsbHisnjHiKGKGKGKNBmvHijafdvcvFJGFJHi'\n",
    "t = \"Hi\"\n",
    "print(solve(s,t))"
   ]
  },
  {
   "cell_type": "code",
   "execution_count": 18,
   "id": "c2c3e143",
   "metadata": {},
   "outputs": [
    {
     "name": "stdout",
     "output_type": "stream",
     "text": [
      "\n",
      "1\n",
      "22\n",
      "333\n",
      "4444\n",
      "55555\n"
     ]
    }
   ],
   "source": [
    "rows=6\n",
    "for i in range(rows):\n",
    "    for j in range(i):\n",
    "        print(i,end='')\n",
    "    print('')"
   ]
  },
  {
   "cell_type": "code",
   "execution_count": 5,
   "id": "3bcfa3be",
   "metadata": {},
   "outputs": [
    {
     "name": "stdout",
     "output_type": "stream",
     "text": [
      "[65, 12, 28, 7, 78, 10]\n"
     ]
    }
   ],
   "source": [
    "def swap(lists):\n",
    "    size = len(lists)\n",
    "\n",
    "    temp = lists[0]\n",
    "    lists[0] = lists[size - 1]\n",
    "    lists[size - 1] = temp\n",
    "\n",
    "    return lists\n",
    "lists = [10,12,28,7,78,65]\n",
    "print(swap(lists))"
   ]
  },
  {
   "cell_type": "code",
   "execution_count": 6,
   "id": "93a00848",
   "metadata": {},
   "outputs": [
    {
     "name": "stdout",
     "output_type": "stream",
     "text": [
      "[23, 67, 98, 34, 12, 11]\n"
     ]
    }
   ],
   "source": [
    "def swaps(List,n1,n2):\n",
    "    List[n1], List[n2] = List[n2], List[n1]\n",
    "    return List\n",
    "\n",
    "List = [23,12,98,34,67,11]\n",
    "n1, n2 = 2, 5\n",
    "print(swaps(List,n1-1, n2-1))"
   ]
  },
  {
   "cell_type": "code",
   "execution_count": 7,
   "id": "41b48693",
   "metadata": {},
   "outputs": [
    {
     "name": "stdout",
     "output_type": "stream",
     "text": [
      "The length of list is: 6\n",
      "The Length of List: 5\n"
     ]
    }
   ],
   "source": [
    "list1=[12,24,48,54,76,98]\n",
    "print(\"The length of list is:\",len(list1))\n",
    "#method2:\n",
    "list2=[34,23,5,66,80]\n",
    "count = 0\n",
    "\n",
    "for i in list2:\n",
    "    count = count + 1\n",
    "print(\"The Length of List:\",count)"
   ]
  },
  {
   "cell_type": "code",
   "execution_count": 9,
   "id": "49dc8569",
   "metadata": {},
   "outputs": [
    {
     "name": "stdout",
     "output_type": "stream",
     "text": [
      "enter num5\n",
      "enter num6\n",
      "6\n"
     ]
    }
   ],
   "source": [
    "#max\n",
    "a=int(input(\"enter num\"))\n",
    "b=int(input(\"enter num\"))\n",
    "def maximum(a,b):\n",
    "\n",
    "    if a>b:\n",
    "        print(a)\n",
    "    else:\n",
    "        print(b)\n",
    "maximum(a,b)\n"
   ]
  },
  {
   "cell_type": "code",
   "execution_count": 10,
   "id": "6653564b",
   "metadata": {},
   "outputs": [
    {
     "name": "stdout",
     "output_type": "stream",
     "text": [
      "enter num7\n",
      "enter num8\n",
      "7\n"
     ]
    }
   ],
   "source": [
    "#min\n",
    "a=int(input(\"enter num\"))\n",
    "b=int(input(\"enter num\"))\n",
    "def minimum(a,b):\n",
    "\n",
    "    if a<b:\n",
    "        print(a)\n",
    "    else:\n",
    "        print(b)\n",
    "minimum(a,b)"
   ]
  },
  {
   "cell_type": "code",
   "execution_count": 11,
   "id": "b57c3b7c",
   "metadata": {},
   "outputs": [
    {
     "name": "stdout",
     "output_type": "stream",
     "text": [
      "Size of Tuple1: 56 bytes\n"
     ]
    }
   ],
   "source": [
    "tuple1=(\"Study\",12,\"char\",12.67)\n",
    "print(\"Size of Tuple1:\",tuple1.__sizeof__(),\"bytes\")"
   ]
  },
  {
   "cell_type": "code",
   "execution_count": 12,
   "id": "64130289",
   "metadata": {},
   "outputs": [
    {
     "name": "stdout",
     "output_type": "stream",
     "text": [
      "The Original Tuple is:(10, 25, 30, 25, 10)\n",
      "sum of Tuples:100\n"
     ]
    }
   ],
   "source": [
    "tup1 = (10,25,30,25,10)\n",
    "print(\"The Original Tuple is:\" + str(tup1))\n",
    "res = sum(list(tup1))\n",
    "print(\"sum of Tuples:\" + str(res))"
   ]
  },
  {
   "cell_type": "code",
   "execution_count": 13,
   "id": "fe69ad9c",
   "metadata": {},
   "outputs": [
    {
     "name": "stdout",
     "output_type": "stream",
     "text": [
      "Tuple: (10, 25, 30, 25, 12, 58, 76)\n",
      "K max & min: [10, 12, 58, 76]\n"
     ]
    }
   ],
   "source": [
    "my_tup = (10,25,30,25,12,58,76)\n",
    "k=2\n",
    "coll = sorted(list(my_tup))\n",
    "vals = []\n",
    "for i in range(k):\n",
    "    vals.append(coll[i])\n",
    "\n",
    "for i in range((len(coll) - k), len(coll)):\n",
    "    vals.append(coll[i])\n",
    "print(\"Tuple:\", str(my_tup))\n",
    "print(\"K max & min:\", str(vals))"
   ]
  },
  {
   "cell_type": "code",
   "execution_count": 15,
   "id": "f8470bad",
   "metadata": {},
   "outputs": [
    {
     "name": "stdout",
     "output_type": "stream",
     "text": [
      "sharon a string is symmetrical\n"
     ]
    }
   ],
   "source": [
    "string = 'sharon a'\n",
    "half = int(len(string) / 2)\n",
    "if len(string)%2==0:\n",
    "    str1=string[:half]\n",
    "    str2=string[half:]\n",
    "else:\n",
    "    str1 = string[:half]\n",
    "    str2 = string[half+1:]\n",
    "\n",
    "if str1 == str2:\n",
    "    print(string, 'String is Palindrome')\n",
    "else:\n",
    "    print(string, 'string is symmetrical')"
   ]
  },
  {
   "cell_type": "code",
   "execution_count": 16,
   "id": "d4f693f2",
   "metadata": {},
   "outputs": [
    {
     "name": "stdout",
     "output_type": "stream",
     "text": [
      "ertjjt ;eojrt tkeljtrj\n"
     ]
    }
   ],
   "source": [
    "#reverse words\n",
    "string = \"tkeljtrj ;eojrt ertjjt\"\n",
    "s=string.split()[::-1]\n",
    "l = []\n",
    "for i in s:\n",
    " l.append(i)\n",
    "print(\" \".join(l))"
   ]
  },
  {
   "cell_type": "code",
   "execution_count": 17,
   "id": "0ba5655e",
   "metadata": {},
   "outputs": [
    {
     "name": "stdout",
     "output_type": "stream",
     "text": [
      "Size of set1: 200 bytes\n"
     ]
    }
   ],
   "source": [
    "set1={\"Study\",12,\"char\",12.67}\n",
    "print(\"Size of set1:\",set1.__sizeof__(),\"bytes\")"
   ]
  },
  {
   "cell_type": "code",
   "execution_count": 18,
   "id": "cdcb954b",
   "metadata": {},
   "outputs": [
    {
     "name": "stdout",
     "output_type": "stream",
     "text": [
      "o\n",
      "y\n",
      "t\n",
      "i\n",
      "a\n",
      "e\n",
      "u\n",
      "['o']['y']['t']['i']['a']['e']['u']\n"
     ]
    }
   ],
   "source": [
    "#method1\n",
    "set_1={'t','y','u','i','o','a','e'}\n",
    "for val in set_1:\n",
    "    print(val, end='\\n')\n",
    "\n",
    "#method2\n",
    "set_2=list({'t','y','u','i','o','a','e'})\n",
    "for value in range(1,len(set_2)):\n",
    "    print(set_2[value-1:value],end='')\n",
    "print(set_2[-1:])\n"
   ]
  },
  {
   "cell_type": "code",
   "execution_count": 19,
   "id": "c3d38d9e",
   "metadata": {},
   "outputs": [
    {
     "name": "stdout",
     "output_type": "stream",
     "text": [
      "The max element is: 78\n",
      "The Min element is 12\n"
     ]
    }
   ],
   "source": [
    "#max and min in set\n",
    "a={12,34,56,45,65,78}\n",
    "print(\"The max element is:\", max(a))\n",
    "print(\"The Min element is\", min(a))\n"
   ]
  },
  {
   "cell_type": "code",
   "execution_count": 22,
   "id": "6066223b",
   "metadata": {},
   "outputs": [
    {
     "name": "stdout",
     "output_type": "stream",
     "text": [
      "Key_value {2: 56, 1: 2, 5: 12, 3: 10, 4: 25}\n",
      "1 2 3 4 5 "
     ]
    }
   ],
   "source": [
    "def dictt():\n",
    "    key={}\n",
    "    key[2] = 56\n",
    "    key[1] = 2\n",
    "    key[5] = 12\n",
    "    key[3] = 10\n",
    "    key[4] = 25\n",
    "    print(\"Key_value\",key)\n",
    "\n",
    "    for i in sorted(key.keys()):\n",
    "        print(i,end=\" \")\n",
    "\n",
    "def main():\n",
    "    dictt()\n",
    "\n",
    "if __name__ == \"__main__\":\n",
    "    main()\n"
   ]
  },
  {
   "cell_type": "code",
   "execution_count": 23,
   "id": "3d832f79",
   "metadata": {},
   "outputs": [
    {
     "name": "stdout",
     "output_type": "stream",
     "text": [
      "{'x-y+z': [12, 10]}\n"
     ]
    }
   ],
   "source": [
    "dic={}\n",
    "a,b,c=5,3,10\n",
    "p,q,r=12,6,4\n",
    "dic[\"x-y+z\"] = [a-b+c,p-q+r]\n",
    "print(dic)\n"
   ]
  },
  {
   "cell_type": "code",
   "execution_count": 24,
   "id": "4bf2e785",
   "metadata": {},
   "outputs": [
    {
     "name": "stdout",
     "output_type": "stream",
     "text": [
      "Add Matrix\n",
      "[[ 7  7  6]\n",
      " [ 3  7 10]]\n",
      "\n",
      "\n",
      "Sub Matrix\n",
      "[[-5 -1  2]\n",
      " [-1 -1 -2]]\n"
     ]
    }
   ],
   "source": [
    "#Adding Matrix\n",
    "import numpy as np\n",
    "m1 = np.array([[1,3,4], [1,3,4]])\n",
    "m2 = np.array([[6,4,2], [2,4,6]])\n",
    "print(\"Add Matrix\")\n",
    "a = np.add(m1, m2)\n",
    "print(a)\n",
    "print('\\n')\n",
    "print(\"Sub Matrix\")\n",
    "b = np.subtract(m1, m2)\n",
    "print(b)\n"
   ]
  },
  {
   "cell_type": "code",
   "execution_count": 25,
   "id": "af1771c7",
   "metadata": {},
   "outputs": [
    {
     "name": "stdout",
     "output_type": "stream",
     "text": [
      "(a, b)\n"
     ]
    }
   ],
   "source": [
    "def func(a, b):\n",
    "    return a+b\n",
    "import inspect\n",
    "print(inspect.signature(func))"
   ]
  },
  {
   "cell_type": "code",
   "execution_count": 26,
   "id": "68f2aad6",
   "metadata": {},
   "outputs": [
    {
     "name": "stdout",
     "output_type": "stream",
     "text": [
      "Hello From Sharukh , 18\n"
     ]
    }
   ],
   "source": [
    "def good(name, num):\n",
    "    print(\"Hello From %s , %s\" % (name, num))\n",
    "\n",
    "good(\"Sharukh\", 18)"
   ]
  },
  {
   "cell_type": "code",
   "execution_count": null,
   "id": "acb6f70d",
   "metadata": {},
   "outputs": [],
   "source": []
  }
 ],
 "metadata": {
  "kernelspec": {
   "display_name": "Python 3 (ipykernel)",
   "language": "python",
   "name": "python3"
  },
  "language_info": {
   "codemirror_mode": {
    "name": "ipython",
    "version": 3
   },
   "file_extension": ".py",
   "mimetype": "text/x-python",
   "name": "python",
   "nbconvert_exporter": "python",
   "pygments_lexer": "ipython3",
   "version": "3.9.12"
  }
 },
 "nbformat": 4,
 "nbformat_minor": 5
}
